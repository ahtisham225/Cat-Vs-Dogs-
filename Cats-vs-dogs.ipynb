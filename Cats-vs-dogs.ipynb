{
 "cells": [
  {
   "cell_type": "markdown",
   "id": "c70b8288",
   "metadata": {
    "papermill": {
     "duration": 0.005438,
     "end_time": "2022-08-27T21:37:33.947952",
     "exception": false,
     "start_time": "2022-08-27T21:37:33.942514",
     "status": "completed"
    },
    "tags": []
   },
   "source": [
    "Starting Fast.AI"
   ]
  },
  {
   "cell_type": "markdown",
   "id": "8a93f122",
   "metadata": {
    "papermill": {
     "duration": 0.004159,
     "end_time": "2022-08-27T21:37:33.956617",
     "exception": false,
     "start_time": "2022-08-27T21:37:33.952458",
     "status": "completed"
    },
    "tags": []
   },
   "source": [
    "Upgrading the Fast AI to the Latest Version"
   ]
  },
  {
   "cell_type": "code",
   "execution_count": 1,
   "id": "b5b4eece",
   "metadata": {
    "execution": {
     "iopub.execute_input": "2022-08-27T21:37:33.967529Z",
     "iopub.status.busy": "2022-08-27T21:37:33.966880Z",
     "iopub.status.idle": "2022-08-27T21:37:45.760898Z",
     "shell.execute_reply": "2022-08-27T21:37:45.759669Z"
    },
    "papermill": {
     "duration": 11.802623,
     "end_time": "2022-08-27T21:37:45.763661",
     "exception": false,
     "start_time": "2022-08-27T21:37:33.961038",
     "status": "completed"
    },
    "tags": []
   },
   "outputs": [],
   "source": [
    "!pip install -Uqq fastai"
   ]
  },
  {
   "cell_type": "markdown",
   "id": "55d0ce16",
   "metadata": {
    "papermill": {
     "duration": 0.004849,
     "end_time": "2022-08-27T21:37:45.773300",
     "exception": false,
     "start_time": "2022-08-27T21:37:45.768451",
     "status": "completed"
    },
    "tags": []
   },
   "source": [
    "Importing all the Fast AI Vision Library"
   ]
  },
  {
   "cell_type": "code",
   "execution_count": 2,
   "id": "dffa6dda",
   "metadata": {
    "execution": {
     "iopub.execute_input": "2022-08-27T21:37:45.783991Z",
     "iopub.status.busy": "2022-08-27T21:37:45.783652Z",
     "iopub.status.idle": "2022-08-27T21:37:48.889942Z",
     "shell.execute_reply": "2022-08-27T21:37:48.888914Z"
    },
    "papermill": {
     "duration": 3.11457,
     "end_time": "2022-08-27T21:37:48.892546",
     "exception": false,
     "start_time": "2022-08-27T21:37:45.777976",
     "status": "completed"
    },
    "tags": []
   },
   "outputs": [],
   "source": [
    "from fastai.vision.all import *"
   ]
  },
  {
   "cell_type": "markdown",
   "id": "5f6a2bf2",
   "metadata": {
    "papermill": {
     "duration": 0.004365,
     "end_time": "2022-08-27T21:37:48.901473",
     "exception": false,
     "start_time": "2022-08-27T21:37:48.897108",
     "status": "completed"
    },
    "tags": []
   },
   "source": [
    "Downloads Pets dataset to the server extracts it and return path object with extracted location"
   ]
  },
  {
   "cell_type": "code",
   "execution_count": 3,
   "id": "70e623da",
   "metadata": {
    "execution": {
     "iopub.execute_input": "2022-08-27T21:37:48.911487Z",
     "iopub.status.busy": "2022-08-27T21:37:48.910989Z",
     "iopub.status.idle": "2022-08-27T21:38:09.383856Z",
     "shell.execute_reply": "2022-08-27T21:38:09.382805Z"
    },
    "papermill": {
     "duration": 20.480751,
     "end_time": "2022-08-27T21:38:09.386472",
     "exception": false,
     "start_time": "2022-08-27T21:37:48.905721",
     "status": "completed"
    },
    "tags": []
   },
   "outputs": [
    {
     "data": {
      "text/html": [
       "\n",
       "<style>\n",
       "    /* Turns off some styling */\n",
       "    progress {\n",
       "        /* gets rid of default border in Firefox and Opera. */\n",
       "        border: none;\n",
       "        /* Needs to be in here for Safari polyfill so background images work as expected. */\n",
       "        background-size: auto;\n",
       "    }\n",
       "    .progress-bar-interrupted, .progress-bar-interrupted::-webkit-progress-bar {\n",
       "        background: #F44336;\n",
       "    }\n",
       "</style>\n"
      ],
      "text/plain": [
       "<IPython.core.display.HTML object>"
      ]
     },
     "metadata": {},
     "output_type": "display_data"
    },
    {
     "data": {
      "text/html": [
       "\n",
       "    <div>\n",
       "      <progress value='811712512' class='' max='811706944' style='width:300px; height:20px; vertical-align: middle;'></progress>\n",
       "      100.00% [811712512/811706944 00:09<00:00]\n",
       "    </div>\n",
       "    "
      ],
      "text/plain": [
       "<IPython.core.display.HTML object>"
      ]
     },
     "metadata": {},
     "output_type": "display_data"
    }
   ],
   "source": [
    "path = untar_data(URLs.PETS)/'images'"
   ]
  },
  {
   "cell_type": "markdown",
   "id": "3d0926f1",
   "metadata": {
    "papermill": {
     "duration": 0.004714,
     "end_time": "2022-08-27T21:38:09.396386",
     "exception": false,
     "start_time": "2022-08-27T21:38:09.391672",
     "status": "completed"
    },
    "tags": []
   },
   "source": [
    "Labels cats based on label name"
   ]
  },
  {
   "cell_type": "code",
   "execution_count": 4,
   "id": "48339a76",
   "metadata": {
    "execution": {
     "iopub.execute_input": "2022-08-27T21:38:09.409542Z",
     "iopub.status.busy": "2022-08-27T21:38:09.407852Z",
     "iopub.status.idle": "2022-08-27T21:38:09.414046Z",
     "shell.execute_reply": "2022-08-27T21:38:09.413088Z"
    },
    "papermill": {
     "duration": 0.015186,
     "end_time": "2022-08-27T21:38:09.416692",
     "exception": false,
     "start_time": "2022-08-27T21:38:09.401506",
     "status": "completed"
    },
    "tags": []
   },
   "outputs": [],
   "source": [
    "def is_cat(x):\n",
    "#     a file name starts with uppercase if it is cat. \n",
    "    return x[0].isupper()"
   ]
  },
  {
   "cell_type": "markdown",
   "id": "e2ad31d3",
   "metadata": {
    "papermill": {
     "duration": 0.004623,
     "end_time": "2022-08-27T21:38:09.426126",
     "exception": false,
     "start_time": "2022-08-27T21:38:09.421503",
     "status": "completed"
    },
    "tags": []
   },
   "source": [
    "What Kind of dataset we have?\n",
    "ImageDataLoaders: Type of the data we have like images text,etc.\n",
    "get_image_files : Return List of images files in a path.\n",
    "valid_pct and seed : are used to split the data set into the validation and seed makes clear that the validation set we are taking is same every time if we change the model the results change base on model not on the basis of chaning a validation set. \n",
    "label_func: How to get the labels from the dataset.\n",
    "transformers: contains code that is applied automatically during training item_tfms: applied to each each items. like each item is resized to 224. batch_tfms: batch of items at a time. "
   ]
  },
  {
   "cell_type": "code",
   "execution_count": 5,
   "id": "b802a619",
   "metadata": {
    "execution": {
     "iopub.execute_input": "2022-08-27T21:38:09.437991Z",
     "iopub.status.busy": "2022-08-27T21:38:09.437659Z",
     "iopub.status.idle": "2022-08-27T21:38:13.944294Z",
     "shell.execute_reply": "2022-08-27T21:38:13.942237Z"
    },
    "papermill": {
     "duration": 4.518207,
     "end_time": "2022-08-27T21:38:13.949184",
     "exception": false,
     "start_time": "2022-08-27T21:38:09.430977",
     "status": "completed"
    },
    "tags": []
   },
   "outputs": [],
   "source": [
    "dls = ImageDataLoaders.from_name_func(\n",
    "    path, get_image_files(path), valid_pct = 0.2, seed = 42,\n",
    "    label_func = is_cat, item_tfms = Resize(224))"
   ]
  },
  {
   "cell_type": "markdown",
   "id": "8231237e",
   "metadata": {
    "papermill": {
     "duration": 0.012111,
     "end_time": "2022-08-27T21:38:13.977553",
     "exception": false,
     "start_time": "2022-08-27T21:38:13.965442",
     "status": "completed"
    },
    "tags": []
   },
   "source": [
    "Now it is a time to create a CNN. Resnet is a machine learning model we use to train our dataset. 34 in Resnet34 refers to the number of layers in this variant. A metric is a function that measures quality of model's prediction using validation set. error_rate: function provided by fast ai to tell that what %age of images are incorrect. "
   ]
  },
  {
   "cell_type": "code",
   "execution_count": 6,
   "id": "a46b198b",
   "metadata": {
    "execution": {
     "iopub.execute_input": "2022-08-27T21:38:14.002541Z",
     "iopub.status.busy": "2022-08-27T21:38:14.000948Z",
     "iopub.status.idle": "2022-08-27T21:38:22.243324Z",
     "shell.execute_reply": "2022-08-27T21:38:22.242201Z"
    },
    "papermill": {
     "duration": 8.25718,
     "end_time": "2022-08-27T21:38:22.245748",
     "exception": false,
     "start_time": "2022-08-27T21:38:13.988568",
     "status": "completed"
    },
    "tags": []
   },
   "outputs": [
    {
     "name": "stderr",
     "output_type": "stream",
     "text": [
      "Downloading: \"https://download.pytorch.org/models/resnet34-b627a593.pth\" to /root/.cache/torch/hub/checkpoints/resnet34-b627a593.pth\n"
     ]
    },
    {
     "data": {
      "application/vnd.jupyter.widget-view+json": {
       "model_id": "72924cd4555c498dae32a68adbb266ff",
       "version_major": 2,
       "version_minor": 0
      },
      "text/plain": [
       "  0%|          | 0.00/83.3M [00:00<?, ?B/s]"
      ]
     },
     "metadata": {},
     "output_type": "display_data"
    }
   ],
   "source": [
    "learn = vision_learner(dls, resnet34, metrics=error_rate)"
   ]
  },
  {
   "cell_type": "markdown",
   "id": "fb98c848",
   "metadata": {
    "papermill": {
     "duration": 0.00456,
     "end_time": "2022-08-27T21:38:22.255452",
     "exception": false,
     "start_time": "2022-08-27T21:38:22.250892",
     "status": "completed"
    },
    "tags": []
   },
   "source": [
    "Fits the Model."
   ]
  },
  {
   "cell_type": "code",
   "execution_count": 7,
   "id": "ee45daf2",
   "metadata": {
    "execution": {
     "iopub.execute_input": "2022-08-27T21:38:22.266455Z",
     "iopub.status.busy": "2022-08-27T21:38:22.265774Z",
     "iopub.status.idle": "2022-08-27T21:40:22.012164Z",
     "shell.execute_reply": "2022-08-27T21:40:22.010958Z"
    },
    "papermill": {
     "duration": 119.754486,
     "end_time": "2022-08-27T21:40:22.014498",
     "exception": false,
     "start_time": "2022-08-27T21:38:22.260012",
     "status": "completed"
    },
    "tags": []
   },
   "outputs": [
    {
     "data": {
      "text/html": [
       "\n",
       "<style>\n",
       "    /* Turns off some styling */\n",
       "    progress {\n",
       "        /* gets rid of default border in Firefox and Opera. */\n",
       "        border: none;\n",
       "        /* Needs to be in here for Safari polyfill so background images work as expected. */\n",
       "        background-size: auto;\n",
       "    }\n",
       "    .progress-bar-interrupted, .progress-bar-interrupted::-webkit-progress-bar {\n",
       "        background: #F44336;\n",
       "    }\n",
       "</style>\n"
      ],
      "text/plain": [
       "<IPython.core.display.HTML object>"
      ]
     },
     "metadata": {},
     "output_type": "display_data"
    },
    {
     "data": {
      "text/html": [
       "<table border=\"1\" class=\"dataframe\">\n",
       "  <thead>\n",
       "    <tr style=\"text-align: left;\">\n",
       "      <th>epoch</th>\n",
       "      <th>train_loss</th>\n",
       "      <th>valid_loss</th>\n",
       "      <th>error_rate</th>\n",
       "      <th>time</th>\n",
       "    </tr>\n",
       "  </thead>\n",
       "  <tbody>\n",
       "    <tr>\n",
       "      <td>0</td>\n",
       "      <td>0.160075</td>\n",
       "      <td>0.022497</td>\n",
       "      <td>0.009472</td>\n",
       "      <td>01:04</td>\n",
       "    </tr>\n",
       "  </tbody>\n",
       "</table>"
      ],
      "text/plain": [
       "<IPython.core.display.HTML object>"
      ]
     },
     "metadata": {},
     "output_type": "display_data"
    },
    {
     "data": {
      "text/html": [
       "\n",
       "<style>\n",
       "    /* Turns off some styling */\n",
       "    progress {\n",
       "        /* gets rid of default border in Firefox and Opera. */\n",
       "        border: none;\n",
       "        /* Needs to be in here for Safari polyfill so background images work as expected. */\n",
       "        background-size: auto;\n",
       "    }\n",
       "    .progress-bar-interrupted, .progress-bar-interrupted::-webkit-progress-bar {\n",
       "        background: #F44336;\n",
       "    }\n",
       "</style>\n"
      ],
      "text/plain": [
       "<IPython.core.display.HTML object>"
      ]
     },
     "metadata": {},
     "output_type": "display_data"
    },
    {
     "data": {
      "text/html": [
       "<table border=\"1\" class=\"dataframe\">\n",
       "  <thead>\n",
       "    <tr style=\"text-align: left;\">\n",
       "      <th>epoch</th>\n",
       "      <th>train_loss</th>\n",
       "      <th>valid_loss</th>\n",
       "      <th>error_rate</th>\n",
       "      <th>time</th>\n",
       "    </tr>\n",
       "  </thead>\n",
       "  <tbody>\n",
       "    <tr>\n",
       "      <td>0</td>\n",
       "      <td>0.053759</td>\n",
       "      <td>0.018746</td>\n",
       "      <td>0.006766</td>\n",
       "      <td>00:55</td>\n",
       "    </tr>\n",
       "  </tbody>\n",
       "</table>"
      ],
      "text/plain": [
       "<IPython.core.display.HTML object>"
      ]
     },
     "metadata": {},
     "output_type": "display_data"
    }
   ],
   "source": [
    "learn.fine_tune(1)\n"
   ]
  },
  {
   "cell_type": "markdown",
   "id": "50613e3b",
   "metadata": {
    "papermill": {
     "duration": 0.005068,
     "end_time": "2022-08-27T21:40:22.025156",
     "exception": false,
     "start_time": "2022-08-27T21:40:22.020088",
     "status": "completed"
    },
    "tags": []
   },
   "source": [
    "Let's Download a cat's image"
   ]
  },
  {
   "cell_type": "markdown",
   "id": "4fc9cb22",
   "metadata": {
    "papermill": {
     "duration": 0.004957,
     "end_time": "2022-08-27T21:40:22.035269",
     "exception": false,
     "start_time": "2022-08-27T21:40:22.030312",
     "status": "completed"
    },
    "tags": []
   },
   "source": [
    "Installing duck duck go\n"
   ]
  },
  {
   "cell_type": "code",
   "execution_count": 8,
   "id": "6bea5290",
   "metadata": {
    "execution": {
     "iopub.execute_input": "2022-08-27T21:40:22.047092Z",
     "iopub.status.busy": "2022-08-27T21:40:22.046732Z",
     "iopub.status.idle": "2022-08-27T21:40:32.276920Z",
     "shell.execute_reply": "2022-08-27T21:40:32.275238Z"
    },
    "papermill": {
     "duration": 10.239933,
     "end_time": "2022-08-27T21:40:32.280095",
     "exception": false,
     "start_time": "2022-08-27T21:40:22.040162",
     "status": "completed"
    },
    "tags": []
   },
   "outputs": [
    {
     "name": "stdout",
     "output_type": "stream",
     "text": [
      "Collecting duckduckgo_search\r\n",
      "  Downloading duckduckgo_search-2.0.2-py3-none-any.whl (28 kB)\r\n",
      "Collecting brotli>=1.0.9\r\n",
      "  Downloading Brotli-1.0.9-cp37-cp37m-manylinux1_x86_64.whl (357 kB)\r\n",
      "\u001b[2K     \u001b[90m━━━━━━━━━━━━━━━━━━━━━━━━━━━━━━━━━━━━━━━\u001b[0m \u001b[32m357.2/357.2 kB\u001b[0m \u001b[31m7.8 MB/s\u001b[0m eta \u001b[36m0:00:00\u001b[0m\r\n",
      "\u001b[?25hCollecting click>=8.1.3\r\n",
      "  Downloading click-8.1.3-py3-none-any.whl (96 kB)\r\n",
      "\u001b[2K     \u001b[90m━━━━━━━━━━━━━━━━━━━━━━━━━━━━━━━━━━━━━━━━\u001b[0m \u001b[32m96.6/96.6 kB\u001b[0m \u001b[31m7.2 MB/s\u001b[0m eta \u001b[36m0:00:00\u001b[0m\r\n",
      "\u001b[?25hRequirement already satisfied: requests>=2.27.1 in /opt/conda/lib/python3.7/site-packages (from duckduckgo_search) (2.28.1)\r\n",
      "Requirement already satisfied: lxml>=4.7.1 in /opt/conda/lib/python3.7/site-packages (from duckduckgo_search) (4.9.1)\r\n",
      "Requirement already satisfied: importlib-metadata in /opt/conda/lib/python3.7/site-packages (from click>=8.1.3->duckduckgo_search) (4.12.0)\r\n",
      "Requirement already satisfied: urllib3<1.27,>=1.21.1 in /opt/conda/lib/python3.7/site-packages (from requests>=2.27.1->duckduckgo_search) (1.26.9)\r\n",
      "Requirement already satisfied: charset-normalizer<3,>=2 in /opt/conda/lib/python3.7/site-packages (from requests>=2.27.1->duckduckgo_search) (2.1.0)\r\n",
      "Requirement already satisfied: idna<4,>=2.5 in /opt/conda/lib/python3.7/site-packages (from requests>=2.27.1->duckduckgo_search) (3.3)\r\n",
      "Requirement already satisfied: certifi>=2017.4.17 in /opt/conda/lib/python3.7/site-packages (from requests>=2.27.1->duckduckgo_search) (2022.6.15)\r\n",
      "Requirement already satisfied: zipp>=0.5 in /opt/conda/lib/python3.7/site-packages (from importlib-metadata->click>=8.1.3->duckduckgo_search) (3.8.0)\r\n",
      "Requirement already satisfied: typing-extensions>=3.6.4 in /opt/conda/lib/python3.7/site-packages (from importlib-metadata->click>=8.1.3->duckduckgo_search) (4.1.1)\r\n",
      "Installing collected packages: brotli, click, duckduckgo_search\r\n",
      "  Attempting uninstall: click\r\n",
      "    Found existing installation: click 8.0.4\r\n",
      "    Uninstalling click-8.0.4:\r\n",
      "      Successfully uninstalled click-8.0.4\r\n",
      "\u001b[31mERROR: pip's dependency resolver does not currently take into account all the packages that are installed. This behaviour is the source of the following dependency conflicts.\r\n",
      "dask-cudf 21.10.1 requires cupy-cuda114, which is not installed.\r\n",
      "ray 1.13.0 requires click<=8.0.4,>=7.0, but you have click 8.1.3 which is incompatible.\r\n",
      "dask-cudf 21.10.1 requires dask==2021.09.1, but you have dask 2022.2.0 which is incompatible.\r\n",
      "dask-cudf 21.10.1 requires distributed==2021.09.1, but you have distributed 2022.2.0 which is incompatible.\r\n",
      "allennlp 2.10.0 requires protobuf==3.20.0, but you have protobuf 3.19.4 which is incompatible.\u001b[0m\u001b[31m\r\n",
      "\u001b[0mSuccessfully installed brotli-1.0.9 click-8.1.3 duckduckgo_search-2.0.2\r\n",
      "\u001b[33mWARNING: Running pip as the 'root' user can result in broken permissions and conflicting behaviour with the system package manager. It is recommended to use a virtual environment instead: https://pip.pypa.io/warnings/venv\u001b[0m\u001b[33m\r\n",
      "\u001b[0mNote: you may need to restart the kernel to use updated packages.\n"
     ]
    }
   ],
   "source": [
    "pip install -U duckduckgo_search"
   ]
  },
  {
   "cell_type": "markdown",
   "id": "c876e6bf",
   "metadata": {
    "papermill": {
     "duration": 0.005743,
     "end_time": "2022-08-27T21:40:32.292150",
     "exception": false,
     "start_time": "2022-08-27T21:40:32.286407",
     "status": "completed"
    },
    "tags": []
   },
   "source": [
    "Importing Duck Duck Go files\n"
   ]
  },
  {
   "cell_type": "code",
   "execution_count": 9,
   "id": "195cc813",
   "metadata": {
    "execution": {
     "iopub.execute_input": "2022-08-27T21:40:32.305442Z",
     "iopub.status.busy": "2022-08-27T21:40:32.305081Z",
     "iopub.status.idle": "2022-08-27T21:40:32.378419Z",
     "shell.execute_reply": "2022-08-27T21:40:32.377450Z"
    },
    "papermill": {
     "duration": 0.082918,
     "end_time": "2022-08-27T21:40:32.380822",
     "exception": false,
     "start_time": "2022-08-27T21:40:32.297904",
     "status": "completed"
    },
    "tags": []
   },
   "outputs": [],
   "source": [
    "from duckduckgo_search import ddg_images\n",
    "from fastcore.all import *\n",
    "\n",
    "def search_images(term, max_images=30):\n",
    "    print(f\"Searching for '{term}'\")\n",
    "    return L(ddg_images(term, max_results=max_images)).itemgot('image')"
   ]
  },
  {
   "cell_type": "code",
   "execution_count": 10,
   "id": "3533a3d3",
   "metadata": {
    "execution": {
     "iopub.execute_input": "2022-08-27T21:40:32.394063Z",
     "iopub.status.busy": "2022-08-27T21:40:32.393688Z",
     "iopub.status.idle": "2022-08-27T21:40:34.552763Z",
     "shell.execute_reply": "2022-08-27T21:40:34.551705Z"
    },
    "papermill": {
     "duration": 2.16934,
     "end_time": "2022-08-27T21:40:34.556181",
     "exception": false,
     "start_time": "2022-08-27T21:40:32.386841",
     "status": "completed"
    },
    "tags": []
   },
   "outputs": [
    {
     "name": "stdout",
     "output_type": "stream",
     "text": [
      "Searching for 'dog photos'\n"
     ]
    },
    {
     "data": {
      "image/png": "[encoded data removed]",
      "text/plain": [
       "<PIL.Image.Image image mode=RGB size=192x256>"
      ]
     },
     "execution_count": 10,
     "metadata": {},
     "output_type": "execute_result"
    }
   ],
   "source": [
    "urls = search_images('dog photos', max_images=1)\n",
    "from fastdownload import download_url\n",
    "dest = 'cat.jpg'\n",
    "download_url(urls[0], dest, show_progress=False)\n",
    "im = Image.open(dest)\n",
    "im.to_thumb(256,256)"
   ]
  },
  {
   "cell_type": "markdown",
   "id": "78eac566",
   "metadata": {
    "papermill": {
     "duration": 0.00729,
     "end_time": "2022-08-27T21:40:34.571621",
     "exception": false,
     "start_time": "2022-08-27T21:40:34.564331",
     "status": "completed"
    },
    "tags": []
   },
   "source": [
    "Now Use our Model"
   ]
  },
  {
   "cell_type": "code",
   "execution_count": 11,
   "id": "1c2698b3",
   "metadata": {
    "execution": {
     "iopub.execute_input": "2022-08-27T21:40:34.587389Z",
     "iopub.status.busy": "2022-08-27T21:40:34.587014Z",
     "iopub.status.idle": "2022-08-27T21:40:35.032167Z",
     "shell.execute_reply": "2022-08-27T21:40:35.030857Z"
    },
    "papermill": {
     "duration": 0.456067,
     "end_time": "2022-08-27T21:40:35.034970",
     "exception": false,
     "start_time": "2022-08-27T21:40:34.578903",
     "status": "completed"
    },
    "tags": []
   },
   "outputs": [
    {
     "data": {
      "text/html": [
       "\n",
       "<style>\n",
       "    /* Turns off some styling */\n",
       "    progress {\n",
       "        /* gets rid of default border in Firefox and Opera. */\n",
       "        border: none;\n",
       "        /* Needs to be in here for Safari polyfill so background images work as expected. */\n",
       "        background-size: auto;\n",
       "    }\n",
       "    .progress-bar-interrupted, .progress-bar-interrupted::-webkit-progress-bar {\n",
       "        background: #F44336;\n",
       "    }\n",
       "</style>\n"
      ],
      "text/plain": [
       "<IPython.core.display.HTML object>"
      ]
     },
     "metadata": {},
     "output_type": "display_data"
    },
    {
     "data": {
      "text/html": [],
      "text/plain": [
       "<IPython.core.display.HTML object>"
      ]
     },
     "metadata": {},
     "output_type": "display_data"
    },
    {
     "name": "stdout",
     "output_type": "stream",
     "text": [
      "This is a: False.\n",
      "Probability it's a cat: 0.0000\n"
     ]
    }
   ],
   "source": [
    "iscat,_,probs = learn.predict(PILImage.create('cat.jpg'))\n",
    "print(f\"This is a: {iscat}.\")\n",
    "print(f\"Probability it's a cat: {1 - probs[0]:.4f}\")"
   ]
  },
  {
   "cell_type": "markdown",
   "id": "d4487a40",
   "metadata": {
    "papermill": {
     "duration": 0.007327,
     "end_time": "2022-08-27T21:40:35.050385",
     "exception": false,
     "start_time": "2022-08-27T21:40:35.043058",
     "status": "completed"
    },
    "tags": []
   },
   "source": [
    "Predict the above downloaded image"
   ]
  }
 ],
 "metadata": {
  "kernelspec": {
   "display_name": "Python 3",
   "language": "python",
   "name": "python3"
  },
  "language_info": {
   "codemirror_mode": {
    "name": "ipython",
    "version": 3
   },
   "file_extension": ".py",
   "mimetype": "text/x-python",
   "name": "python",
   "nbconvert_exporter": "python",
   "pygments_lexer": "ipython3",
   "version": "3.7.12"
  },
  "papermill": {
   "default_parameters": {},
   "duration": 191.451959,
   "end_time": "2022-08-27T21:40:37.309962",
   "environment_variables": {},
   "exception": null,
   "input_path": "__notebook__.ipynb",
   "output_path": "__notebook__.ipynb",
   "parameters": {},
   "start_time": "2022-08-27T21:37:25.858003",
   "version": "2.3.4"
  },
  "widgets": {
   "application/vnd.jupyter.widget-state+json": {
    "state": {
     "02c8be2307cf43258a1a22c46cc09c62": {
      "model_module": "@jupyter-widgets/base",
      "model_module_version": "1.2.0",
      "model_name": "LayoutModel",
      "state": {
       "_model_module": "@jupyter-widgets/base",
       "_model_module_version": "1.2.0",
       "_model_name": "LayoutModel",
       "_view_count": null,
       "_view_module": "@jupyter-widgets/base",
       "_view_module_version": "1.2.0",
       "_view_name": "LayoutView",
       "align_content": null,
       "align_items": null,
       "align_self": null,
       "border": null,
       "bottom": null,
       "display": null,
       "flex": null,
       "flex_flow": null,
       "grid_area": null,
       "grid_auto_columns": null,
       "grid_auto_flow": null,
       "grid_auto_rows": null,
       "grid_column": null,
       "grid_gap": null,
       "grid_row": null,
       "grid_template_areas": null,
       "grid_template_columns": null,
       "grid_template_rows": null,
       "height": null,
       "justify_content": null,
       "justify_items": null,
       "left": null,
       "margin": null,
       "max_height": null,
       "max_width": null,
       "min_height": null,
       "min_width": null,
       "object_fit": null,
       "object_position": null,
       "order": null,
       "overflow": null,
       "overflow_x": null,
       "overflow_y": null,
       "padding": null,
       "right": null,
       "top": null,
       "visibility": null,
       "width": null
      }
     },
     "1c57ba69dcfb449e84ee2e8fe3446c64": {
      "model_module": "@jupyter-widgets/controls",
      "model_module_version": "1.5.0",
      "model_name": "HTMLModel",
      "state": {
       "_dom_classes": [],
       "_model_module": "@jupyter-widgets/controls",
       "_model_module_version": "1.5.0",
       "_model_name": "HTMLModel",
       "_view_count": null,
       "_view_module": "@jupyter-widgets/controls",
       "_view_module_version": "1.5.0",
       "_view_name": "HTMLView",
       "description": "",
       "description_tooltip": null,
       "layout": "IPY_MODEL_eaa48ebe85b740d081226f079be7b760",
       "placeholder": "​",
       "style": "IPY_MODEL_e0c907b61bf24907ad19c687bba9d75e",
       "value": "100%"
      }
     },
     "2a45ca3f06604c798355606cd64b90d0": {
      "model_module": "@jupyter-widgets/base",
      "model_module_version": "1.2.0",
      "model_name": "LayoutModel",
      "state": {
       "_model_module": "@jupyter-widgets/base",
       "_model_module_version": "1.2.0",
       "_model_name": "LayoutModel",
       "_view_count": null,
       "_view_module": "@jupyter-widgets/base",
       "_view_module_version": "1.2.0",
       "_view_name": "LayoutView",
       "align_content": null,
       "align_items": null,
       "align_self": null,
       "border": null,
       "bottom": null,
       "display": null,
       "flex": null,
       "flex_flow": null,
       "grid_area": null,
       "grid_auto_columns": null,
       "grid_auto_flow": null,
       "grid_auto_rows": null,
       "grid_column": null,
       "grid_gap": null,
       "grid_row": null,
       "grid_template_areas": null,
       "grid_template_columns": null,
       "grid_template_rows": null,
       "height": null,
       "justify_content": null,
       "justify_items": null,
       "left": null,
       "margin": null,
       "max_height": null,
       "max_width": null,
       "min_height": null,
       "min_width": null,
       "object_fit": null,
       "object_position": null,
       "order": null,
       "overflow": null,
       "overflow_x": null,
       "overflow_y": null,
       "padding": null,
       "right": null,
       "top": null,
       "visibility": null,
       "width": null
      }
     },
     "2d68fb2d1ee34ad1b3dcd0bde7456397": {
      "model_module": "@jupyter-widgets/base",
      "model_module_version": "1.2.0",
      "model_name": "LayoutModel",
      "state": {
       "_model_module": "@jupyter-widgets/base",
       "_model_module_version": "1.2.0",
       "_model_name": "LayoutModel",
       "_view_count": null,
       "_view_module": "@jupyter-widgets/base",
       "_view_module_version": "1.2.0",
       "_view_name": "LayoutView",
       "align_content": null,
       "align_items": null,
       "align_self": null,
       "border": null,
       "bottom": null,
       "display": null,
       "flex": null,
       "flex_flow": null,
       "grid_area": null,
       "grid_auto_columns": null,
       "grid_auto_flow": null,
       "grid_auto_rows": null,
       "grid_column": null,
       "grid_gap": null,
       "grid_row": null,
       "grid_template_areas": null,
       "grid_template_columns": null,
       "grid_template_rows": null,
       "height": null,
       "justify_content": null,
       "justify_items": null,
       "left": null,
       "margin": null,
       "max_height": null,
       "max_width": null,
       "min_height": null,
       "min_width": null,
       "object_fit": null,
       "object_position": null,
       "order": null,
       "overflow": null,
       "overflow_x": null,
       "overflow_y": null,
       "padding": null,
       "right": null,
       "top": null,
       "visibility": null,
       "width": null
      }
     },
     "698582535ca5441dbc52bd5ab54dde1d": {
      "model_module": "@jupyter-widgets/controls",
      "model_module_version": "1.5.0",
      "model_name": "FloatProgressModel",
      "state": {
       "_dom_classes": [],
       "_model_module": "@jupyter-widgets/controls",
       "_model_module_version": "1.5.0",
       "_model_name": "FloatProgressModel",
       "_view_count": null,
       "_view_module": "@jupyter-widgets/controls",
       "_view_module_version": "1.5.0",
       "_view_name": "ProgressView",
       "bar_style": "success",
       "description": "",
       "description_tooltip": null,
       "layout": "IPY_MODEL_02c8be2307cf43258a1a22c46cc09c62",
       "max": 87319819.0,
       "min": 0.0,
       "orientation": "horizontal",
       "style": "IPY_MODEL_aacb76d9c9734c04bca29c7060fe20fb",
       "value": 87319819.0
      }
     },
     "72924cd4555c498dae32a68adbb266ff": {
      "model_module": "@jupyter-widgets/controls",
      "model_module_version": "1.5.0",
      "model_name": "HBoxModel",
      "state": {
       "_dom_classes": [],
       "_model_module": "@jupyter-widgets/controls",
       "_model_module_version": "1.5.0",
       "_model_name": "HBoxModel",
       "_view_count": null,
       "_view_module": "@jupyter-widgets/controls",
       "_view_module_version": "1.5.0",
       "_view_name": "HBoxView",
       "box_style": "",
       "children": [
        "IPY_MODEL_1c57ba69dcfb449e84ee2e8fe3446c64",
        "IPY_MODEL_698582535ca5441dbc52bd5ab54dde1d",
        "IPY_MODEL_f5c0a8c84be34e08a02b8b924e0256f4"
       ],
       "layout": "IPY_MODEL_2d68fb2d1ee34ad1b3dcd0bde7456397"
      }
     },
     "aacb76d9c9734c04bca29c7060fe20fb": {
      "model_module": "@jupyter-widgets/controls",
      "model_module_version": "1.5.0",
      "model_name": "ProgressStyleModel",
      "state": {
       "_model_module": "@jupyter-widgets/controls",
       "_model_module_version": "1.5.0",
       "_model_name": "ProgressStyleModel",
       "_view_count": null,
       "_view_module": "@jupyter-widgets/base",
       "_view_module_version": "1.2.0",
       "_view_name": "StyleView",
       "bar_color": null,
       "description_width": ""
      }
     },
     "e0c907b61bf24907ad19c687bba9d75e": {
      "model_module": "@jupyter-widgets/controls",
      "model_module_version": "1.5.0",
      "model_name": "DescriptionStyleModel",
      "state": {
       "_model_module": "@jupyter-widgets/controls",
       "_model_module_version": "1.5.0",
       "_model_name": "DescriptionStyleModel",
       "_view_count": null,
       "_view_module": "@jupyter-widgets/base",
       "_view_module_version": "1.2.0",
       "_view_name": "StyleView",
       "description_width": ""
      }
     },
     "eaa48ebe85b740d081226f079be7b760": {
      "model_module": "@jupyter-widgets/base",
      "model_module_version": "1.2.0",
      "model_name": "LayoutModel",
      "state": {
       "_model_module": "@jupyter-widgets/base",
       "_model_module_version": "1.2.0",
       "_model_name": "LayoutModel",
       "_view_count": null,
       "_view_module": "@jupyter-widgets/base",
       "_view_module_version": "1.2.0",
       "_view_name": "LayoutView",
       "align_content": null,
       "align_items": null,
       "align_self": null,
       "border": null,
       "bottom": null,
       "display": null,
       "flex": null,
       "flex_flow": null,
       "grid_area": null,
       "grid_auto_columns": null,
       "grid_auto_flow": null,
       "grid_auto_rows": null,
       "grid_column": null,
       "grid_gap": null,
       "grid_row": null,
       "grid_template_areas": null,
       "grid_template_columns": null,
       "grid_template_rows": null,
       "height": null,
       "justify_content": null,
       "justify_items": null,
       "left": null,
       "margin": null,
       "max_height": null,
       "max_width": null,
       "min_height": null,
       "min_width": null,
       "object_fit": null,
       "object_position": null,
       "order": null,
       "overflow": null,
       "overflow_x": null,
       "overflow_y": null,
       "padding": null,
       "right": null,
       "top": null,
       "visibility": null,
       "width": null
      }
     },
     "f5c0a8c84be34e08a02b8b924e0256f4": {
      "model_module": "@jupyter-widgets/controls",
      "model_module_version": "1.5.0",
      "model_name": "HTMLModel",
      "state": {
       "_dom_classes": [],
       "_model_module": "@jupyter-widgets/controls",
       "_model_module_version": "1.5.0",
       "_model_name": "HTMLModel",
       "_view_count": null,
       "_view_module": "@jupyter-widgets/controls",
       "_view_module_version": "1.5.0",
       "_view_name": "HTMLView",
       "description": "",
       "description_tooltip": null,
       "layout": "IPY_MODEL_2a45ca3f06604c798355606cd64b90d0",
       "placeholder": "​",
       "style": "IPY_MODEL_f86c308a35c84f4786794b44055f171d",
       "value": " 83.3M/83.3M [00:06&lt;00:00, 16.4MB/s]"
      }
     },
     "f86c308a35c84f4786794b44055f171d": {
      "model_module": "@jupyter-widgets/controls",
      "model_module_version": "1.5.0",
      "model_name": "DescriptionStyleModel",
      "state": {
       "_model_module": "@jupyter-widgets/controls",
       "_model_module_version": "1.5.0",
       "_model_name": "DescriptionStyleModel",
       "_view_count": null,
       "_view_module": "@jupyter-widgets/base",
       "_view_module_version": "1.2.0",
       "_view_name": "StyleView",
       "description_width": ""
      }
     }
    },
    "version_major": 2,
    "version_minor": 0
   }
  }
 },
 "nbformat": 4,
 "nbformat_minor": 5
}
